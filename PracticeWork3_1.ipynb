{
  "nbformat": 4,
  "nbformat_minor": 0,
  "metadata": {
    "colab": {
      "provenance": [],
      "authorship_tag": "ABX9TyO0dmoDoOIoehG6NnsJOnC3",
      "include_colab_link": true
    },
    "kernelspec": {
      "name": "python3",
      "display_name": "Python 3"
    },
    "language_info": {
      "name": "python"
    }
  },
  "cells": [
    {
      "cell_type": "markdown",
      "metadata": {
        "id": "view-in-github",
        "colab_type": "text"
      },
      "source": [
        "<a href=\"https://colab.research.google.com/github/RainDeath29/PracticeWork/blob/main/PracticeWork3_1.ipynb\" target=\"_parent\"><img src=\"https://colab.research.google.com/assets/colab-badge.svg\" alt=\"Open In Colab\"/></a>"
      ]
    },
    {
      "cell_type": "code",
      "source": [
        "import numpy as np\n",
        "import pandas as pd\n",
        "from sklearn.pipeline import make_pipeline\n",
        "from sklearn.preprocessing import PolynomialFeatures\n",
        "from sklearn.linear_model import LinearRegression\n",
        "from sklearn.model_selection import GridSearchCV\n",
        "\n",
        "X_data = np.array([[ 0], [ 1], [ 2], [ 3], [ 4], [ 5], [ 6], [ 7],\n",
        "                   [ 8], [ 9], [10], [11], [12], [13], [14], [15],\n",
        "                   [16], [17], [18], [19]])\n",
        "\n",
        "y_data = np.array([  498.71415301,  -132.26430117,   659.6885381 ,  1543.02985641,\n",
        "        -204.15337472,  -192.13695695,  1635.21281551,   839.43472915,\n",
        "        -379.47438593,   652.56004359,  -331.41769281,  -309.72975357,\n",
        "         423.96227157, -1703.28024466, -1484.91783251,  -290.28752924,\n",
        "        -706.83112033,   656.2473326 ,  -528.02407552,  -992.30370134])\n",
        "\n",
        "pipe_poly = make_pipeline(PolynomialFeatures(), LinearRegression())\n",
        "\n",
        "param_grid = {'polynomialfeatures__degree': [1, 2, 3, 4]}\n",
        "\n",
        "grid_poly = GridSearchCV(pipe_poly, param_grid=param_grid, cv=5, scoring='r2')\n",
        "\n",
        "grid_poly.fit(X_data, y_data)\n",
        "\n",
        "print(\"--- Результати пошуку для поліноміальної моделі ---\")\n",
        "print(f\"Найкращий степінь полінома: {grid_poly.best_params_['polynomialfeatures__degree']}\")\n",
        "print(f\"Найкраща середня оцінка (R^2): {grid_poly.best_score_:.4f}\")\n",
        "\n",
        "results_df = pd.DataFrame(grid_poly.cv_results_)\n",
        "print(\"\\nДетальні результати для кожного степеня:\")\n",
        "print(results_df[['param_polynomialfeatures__degree', 'mean_test_score', 'std_test_score']])"
      ],
      "metadata": {
        "colab": {
          "base_uri": "https://localhost:8080/"
        },
        "id": "uqxNngDJvOFP",
        "outputId": "0df20914-78e6-4ae5-f744-819e4e11dd26"
      },
      "execution_count": 13,
      "outputs": [
        {
          "output_type": "stream",
          "name": "stdout",
          "text": [
            "--- Результати пошуку для поліноміальної моделі ---\n",
            "Найкращий степінь полінома: 1\n",
            "Найкраща середня оцінка (R^2): -0.3579\n",
            "\n",
            "Детальні результати для кожного степеня:\n",
            "   param_polynomialfeatures__degree  mean_test_score  std_test_score\n",
            "0                                 1        -0.357897        0.245240\n",
            "1                                 2        -1.761646        2.663807\n",
            "2                                 3        -2.039635        3.131760\n",
            "3                                 4       -59.048934      103.156224\n"
          ]
        }
      ]
    },
    {
      "cell_type": "code",
      "source": [
        "import numpy as np\n",
        "from sklearn.pipeline import make_pipeline\n",
        "from sklearn.preprocessing import PolynomialFeatures\n",
        "from sklearn.linear_model import LinearRegression\n",
        "\n",
        "X_data = np.array([[ 0], [ 1], [ 2], [ 3], [ 4], [ 5], [ 6], [ 7],\n",
        "                   [ 8], [ 9], [10], [11], [12], [13], [14], [15],\n",
        "                   [16], [17], [18], [19]])\n",
        "\n",
        "y_data = np.array([  498.71415301,  -132.26430117,   659.6885381 ,  1543.02985641,\n",
        "        -204.15337472,  -192.13695695,  1635.21281551,   839.43472915,\n",
        "        -379.47438593,   652.56004359,  -331.41769281,  -309.72975357,\n",
        "         423.96227157, -1703.28024466, -1484.91783251,  -290.28752924,\n",
        "        -706.83112033,   656.2473326 ,  -528.02407552,  -992.30370134])\n",
        "\n",
        "best_poly_model = make_pipeline(PolynomialFeatures(degree=1), LinearRegression())\n",
        "best_poly_model.fit(X_data, y_data)\n",
        "\n",
        "final_linear_regressor = best_poly_model.named_steps['linearregression']\n",
        "\n",
        "b = final_linear_regressor.intercept_\n",
        "k = final_linear_regressor.coef_[1]\n",
        "\n",
        "r2_score = best_poly_model.score(X_data, y_data)\n",
        "\n",
        "print(\"--- Деталі для найкращої поліноміальної моделі (Степінь 1) ---\")\n",
        "print(f\"Рівняння моделі: y = {k:.4f} * x + {b:.4f}\")\n",
        "print(f\"Коефіцієнт k (нахил): {k:.4f}\")\n",
        "print(f\"Вільний член b (зсув): {b:.4f}\")\n",
        "print(f\"Коефіцієнт детермінації (R^2) на всіх даних: {r2_score:.4f}\")"
      ],
      "metadata": {
        "colab": {
          "base_uri": "https://localhost:8080/"
        },
        "id": "UJi7onk3z99U",
        "outputId": "0c6f6745-fe51-4753-b556-e06058cb1c4f"
      },
      "execution_count": 14,
      "outputs": [
        {
          "output_type": "stream",
          "name": "stdout",
          "text": [
            "--- Деталі для найкращої поліноміальної моделі (Степінь 1) ---\n",
            "Рівняння моделі: y = -77.5648 * x + 719.5666\n",
            "Коефіцієнт k (нахил): -77.5648\n",
            "Вільний член b (зсув): 719.5666\n",
            "Коефіцієнт детермінації (R^2) на всіх даних: 0.2690\n"
          ]
        }
      ]
    },
    {
      "cell_type": "code",
      "execution_count": 15,
      "metadata": {
        "colab": {
          "base_uri": "https://localhost:8080/"
        },
        "id": "ype8V218qB6u",
        "outputId": "fee1be26-2526-4b06-9955-008bc801b354"
      },
      "outputs": [
        {
          "output_type": "stream",
          "name": "stderr",
          "text": [
            "/usr/local/lib/python3.12/dist-packages/sklearn/neural_network/_multilayer_perceptron.py:691: ConvergenceWarning: Stochastic Optimizer: Maximum iterations (3000) reached and the optimization hasn't converged yet.\n",
            "  warnings.warn(\n",
            "/usr/local/lib/python3.12/dist-packages/sklearn/neural_network/_multilayer_perceptron.py:691: ConvergenceWarning: Stochastic Optimizer: Maximum iterations (3000) reached and the optimization hasn't converged yet.\n",
            "  warnings.warn(\n",
            "/usr/local/lib/python3.12/dist-packages/sklearn/neural_network/_multilayer_perceptron.py:691: ConvergenceWarning: Stochastic Optimizer: Maximum iterations (3000) reached and the optimization hasn't converged yet.\n",
            "  warnings.warn(\n",
            "/usr/local/lib/python3.12/dist-packages/sklearn/neural_network/_multilayer_perceptron.py:691: ConvergenceWarning: Stochastic Optimizer: Maximum iterations (3000) reached and the optimization hasn't converged yet.\n",
            "  warnings.warn(\n",
            "/usr/local/lib/python3.12/dist-packages/sklearn/neural_network/_multilayer_perceptron.py:691: ConvergenceWarning: Stochastic Optimizer: Maximum iterations (3000) reached and the optimization hasn't converged yet.\n",
            "  warnings.warn(\n",
            "/usr/local/lib/python3.12/dist-packages/sklearn/neural_network/_multilayer_perceptron.py:691: ConvergenceWarning: Stochastic Optimizer: Maximum iterations (3000) reached and the optimization hasn't converged yet.\n",
            "  warnings.warn(\n",
            "/usr/local/lib/python3.12/dist-packages/sklearn/neural_network/_multilayer_perceptron.py:691: ConvergenceWarning: Stochastic Optimizer: Maximum iterations (3000) reached and the optimization hasn't converged yet.\n",
            "  warnings.warn(\n",
            "/usr/local/lib/python3.12/dist-packages/sklearn/neural_network/_multilayer_perceptron.py:691: ConvergenceWarning: Stochastic Optimizer: Maximum iterations (3000) reached and the optimization hasn't converged yet.\n",
            "  warnings.warn(\n",
            "/usr/local/lib/python3.12/dist-packages/sklearn/neural_network/_multilayer_perceptron.py:691: ConvergenceWarning: Stochastic Optimizer: Maximum iterations (3000) reached and the optimization hasn't converged yet.\n",
            "  warnings.warn(\n",
            "/usr/local/lib/python3.12/dist-packages/sklearn/neural_network/_multilayer_perceptron.py:691: ConvergenceWarning: Stochastic Optimizer: Maximum iterations (3000) reached and the optimization hasn't converged yet.\n",
            "  warnings.warn(\n",
            "/usr/local/lib/python3.12/dist-packages/sklearn/neural_network/_multilayer_perceptron.py:691: ConvergenceWarning: Stochastic Optimizer: Maximum iterations (3000) reached and the optimization hasn't converged yet.\n",
            "  warnings.warn(\n",
            "/usr/local/lib/python3.12/dist-packages/sklearn/neural_network/_multilayer_perceptron.py:691: ConvergenceWarning: Stochastic Optimizer: Maximum iterations (3000) reached and the optimization hasn't converged yet.\n",
            "  warnings.warn(\n",
            "/usr/local/lib/python3.12/dist-packages/sklearn/neural_network/_multilayer_perceptron.py:691: ConvergenceWarning: Stochastic Optimizer: Maximum iterations (3000) reached and the optimization hasn't converged yet.\n",
            "  warnings.warn(\n",
            "/usr/local/lib/python3.12/dist-packages/sklearn/neural_network/_multilayer_perceptron.py:691: ConvergenceWarning: Stochastic Optimizer: Maximum iterations (3000) reached and the optimization hasn't converged yet.\n",
            "  warnings.warn(\n",
            "/usr/local/lib/python3.12/dist-packages/sklearn/neural_network/_multilayer_perceptron.py:691: ConvergenceWarning: Stochastic Optimizer: Maximum iterations (3000) reached and the optimization hasn't converged yet.\n",
            "  warnings.warn(\n",
            "/usr/local/lib/python3.12/dist-packages/sklearn/neural_network/_multilayer_perceptron.py:691: ConvergenceWarning: Stochastic Optimizer: Maximum iterations (3000) reached and the optimization hasn't converged yet.\n",
            "  warnings.warn(\n",
            "/usr/local/lib/python3.12/dist-packages/sklearn/neural_network/_multilayer_perceptron.py:691: ConvergenceWarning: Stochastic Optimizer: Maximum iterations (3000) reached and the optimization hasn't converged yet.\n",
            "  warnings.warn(\n",
            "/usr/local/lib/python3.12/dist-packages/sklearn/neural_network/_multilayer_perceptron.py:691: ConvergenceWarning: Stochastic Optimizer: Maximum iterations (3000) reached and the optimization hasn't converged yet.\n",
            "  warnings.warn(\n",
            "/usr/local/lib/python3.12/dist-packages/sklearn/neural_network/_multilayer_perceptron.py:691: ConvergenceWarning: Stochastic Optimizer: Maximum iterations (3000) reached and the optimization hasn't converged yet.\n",
            "  warnings.warn(\n",
            "/usr/local/lib/python3.12/dist-packages/sklearn/neural_network/_multilayer_perceptron.py:691: ConvergenceWarning: Stochastic Optimizer: Maximum iterations (3000) reached and the optimization hasn't converged yet.\n",
            "  warnings.warn(\n",
            "/usr/local/lib/python3.12/dist-packages/sklearn/neural_network/_multilayer_perceptron.py:691: ConvergenceWarning: Stochastic Optimizer: Maximum iterations (3000) reached and the optimization hasn't converged yet.\n",
            "  warnings.warn(\n",
            "/usr/local/lib/python3.12/dist-packages/sklearn/neural_network/_multilayer_perceptron.py:691: ConvergenceWarning: Stochastic Optimizer: Maximum iterations (3000) reached and the optimization hasn't converged yet.\n",
            "  warnings.warn(\n",
            "/usr/local/lib/python3.12/dist-packages/sklearn/neural_network/_multilayer_perceptron.py:691: ConvergenceWarning: Stochastic Optimizer: Maximum iterations (3000) reached and the optimization hasn't converged yet.\n",
            "  warnings.warn(\n",
            "/usr/local/lib/python3.12/dist-packages/sklearn/neural_network/_multilayer_perceptron.py:691: ConvergenceWarning: Stochastic Optimizer: Maximum iterations (3000) reached and the optimization hasn't converged yet.\n",
            "  warnings.warn(\n",
            "/usr/local/lib/python3.12/dist-packages/sklearn/neural_network/_multilayer_perceptron.py:691: ConvergenceWarning: Stochastic Optimizer: Maximum iterations (3000) reached and the optimization hasn't converged yet.\n",
            "  warnings.warn(\n"
          ]
        },
        {
          "output_type": "stream",
          "name": "stdout",
          "text": [
            "--- Результати пошуку для MLP моделі ---\n",
            "Найкраща архітектура: (10, 5)\n",
            "Найкраща середня оцінка (R^2): -0.2227\n",
            "\n",
            "Детальні результати для кожної архітектури:\n",
            "  param_mlpregressor__hidden_layer_sizes  mean_test_score  std_test_score\n",
            "0                                  (10,)        -0.410935        0.362255\n",
            "1                                  (20,)        -0.312038        0.254134\n",
            "2                                (10, 5)        -0.222665        0.135493\n",
            "3                               (20, 10)        -0.472570        0.542013\n",
            "4                           (10, 10, 10)        -1.782679        1.698267\n"
          ]
        },
        {
          "output_type": "stream",
          "name": "stderr",
          "text": [
            "/usr/local/lib/python3.12/dist-packages/sklearn/neural_network/_multilayer_perceptron.py:691: ConvergenceWarning: Stochastic Optimizer: Maximum iterations (3000) reached and the optimization hasn't converged yet.\n",
            "  warnings.warn(\n"
          ]
        }
      ],
      "source": [
        "import numpy as np\n",
        "import pandas as pd\n",
        "from sklearn.pipeline import make_pipeline\n",
        "from sklearn.preprocessing import StandardScaler\n",
        "from sklearn.neural_network import MLPRegressor\n",
        "from sklearn.model_selection import GridSearchCV\n",
        "\n",
        "X_data = np.array([[ 0], [ 1], [ 2], [ 3], [ 4], [ 5], [ 6], [ 7],\n",
        "                   [ 8], [ 9], [10], [11], [12], [13], [14], [15],\n",
        "                   [16], [17], [18], [19]])\n",
        "\n",
        "y_data = np.array([  498.71415301,  -132.26430117,   659.6885381 ,  1543.02985641,\n",
        "        -204.15337472,  -192.13695695,  1635.21281551,   839.43472915,\n",
        "        -379.47438593,   652.56004359,  -331.41769281,  -309.72975357,\n",
        "         423.96227157, -1703.28024466, -1484.91783251,  -290.28752924,\n",
        "        -706.83112033,   656.2473326 ,  -528.02407552,  -992.30370134])\n",
        "\n",
        "pipe_mlp = make_pipeline(StandardScaler(), MLPRegressor(random_state=42, max_iter=3000))\n",
        "\n",
        "param_grid_mlp = {\n",
        "    'mlpregressor__hidden_layer_sizes': [\n",
        "        (10,), (20,),\n",
        "        (10, 5), (20, 10),\n",
        "        (10, 10, 10)\n",
        "    ]\n",
        "}\n",
        "\n",
        "grid_mlp = GridSearchCV(pipe_mlp, param_grid=param_grid_mlp, cv=5, scoring='r2')\n",
        "grid_mlp.fit(X_data, y_data)\n",
        "\n",
        "print(\"--- Результати пошуку для MLP моделі ---\")\n",
        "print(f\"Найкраща архітектура: {grid_mlp.best_params_['mlpregressor__hidden_layer_sizes']}\")\n",
        "print(f\"Найкраща середня оцінка (R^2): {grid_mlp.best_score_:.4f}\")\n",
        "\n",
        "results_mlp_df = pd.DataFrame(grid_mlp.cv_results_)\n",
        "print(\"\\nДетальні результати для кожної архітектури:\")\n",
        "print(results_mlp_df[['param_mlpregressor__hidden_layer_sizes', 'mean_test_score', 'std_test_score']])"
      ]
    },
    {
      "cell_type": "code",
      "source": [
        "import numpy as np\n",
        "import matplotlib.pyplot as plt\n",
        "from sklearn.pipeline import make_pipeline\n",
        "from sklearn.preprocessing import StandardScaler\n",
        "from sklearn.neural_network import MLPRegressor\n",
        "\n",
        "X_data = np.array([[ 0], [ 1], [ 2], [ 3], [ 4], [ 5], [ 6], [ 7],\n",
        "                   [ 8], [ 9], [10], [11], [12], [13], [14], [15],\n",
        "                   [16], [17], [18], [19]])\n",
        "\n",
        "y_data = np.array([  498.71415301,  -132.26430117,   659.6885381 ,  1543.02985641,\n",
        "        -204.15337472,  -192.13695695,  1635.21281551,   839.43472915,\n",
        "        -379.47438593,   652.56004359,  -331.41769281,  -309.72975357,\n",
        "         423.96227157, -1703.28024466, -1484.91783251,  -290.28752924,\n",
        "        -706.83112033,   656.2473326 ,  -528.02407552,  -992.30370134])\n",
        "\n",
        "best_mlp_model = make_pipeline(\n",
        "    StandardScaler(),\n",
        "    MLPRegressor(hidden_layer_sizes=(10, 5), random_state=42, max_iter=3000)\n",
        ")\n",
        "best_mlp_model.fit(X_data, y_data)\n",
        "\n",
        "X_plot = np.linspace(X_data.min(), X_data.max(), 100).reshape(-1, 1)\n",
        "y_plot = best_mlp_model.predict(X_plot)\n",
        "\n",
        "plt.figure(figsize=(10, 6))\n",
        "plt.scatter(X_data, y_data, label='Вихідні дані з шумом')\n",
        "plt.plot(X_plot, y_plot, color='red', linewidth=2, label='Прогноз найкращої MLP моделі')\n",
        "plt.title('Візуалізація найкращої моделі для Задачі 3')\n",
        "plt.xlabel('x')\n",
        "plt.ylabel('y')\n",
        "plt.legend()\n",
        "plt.grid(True)\n",
        "plt.show()\n",
        "\n",
        "x_new = np.array([[10.5]])\n",
        "y_new = best_mlp_model.predict(x_new)\n",
        "print(f\"Прогноз моделі для точки x={x_new[0][0]}: y={y_new[0]:.2f}\")"
      ],
      "metadata": {
        "colab": {
          "base_uri": "https://localhost:8080/",
          "height": 616
        },
        "id": "nbuGXZMFwxzW",
        "outputId": "97b7aa8e-f8ac-456f-e87b-e1558b2fc984"
      },
      "execution_count": 16,
      "outputs": [
        {
          "output_type": "stream",
          "name": "stderr",
          "text": [
            "/usr/local/lib/python3.12/dist-packages/sklearn/neural_network/_multilayer_perceptron.py:691: ConvergenceWarning: Stochastic Optimizer: Maximum iterations (3000) reached and the optimization hasn't converged yet.\n",
            "  warnings.warn(\n"
          ]
        },
        {
          "output_type": "display_data",
          "data": {
            "text/plain": [
              "<Figure size 1000x600 with 1 Axes>"
            ],
            "image/png": "[encoded data removed]"
          },
          "metadata": {}
        },
        {
          "output_type": "stream",
          "name": "stdout",
          "text": [
            "Прогноз моделі для точки x=10.5: y=-122.54\n"
          ]
        }
      ]
    },
    {
      "cell_type": "markdown",
      "source": [
        "## Висновки по Задачі 3\n",
        "\n",
        "В результаті аналізу було порівняно поліноміальні моделі та моделі на основі MLP.\n",
        "\n",
        "* Найкраща поліноміальна модель: **Степінь 1**, R² = **-0.3579**\n",
        "* Найкраща MLP модель: **Архітектура (10, 5)**, R² = **-0.2227**\n",
        "\n",
        "**Загальний висновок:** Найкращою моделлю для даного набору даних є MLP з архітектурою (10, 5), оскільки вона має вищу (менш негативну) оцінку R²."
      ],
      "metadata": {
        "id": "DywvUDFbv-RH"
      }
    }
  ]
}