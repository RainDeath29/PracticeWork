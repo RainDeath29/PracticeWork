{
  "nbformat": 4,
  "nbformat_minor": 0,
  "metadata": {
    "colab": {
      "provenance": [],
      "mount_file_id": "1njSYu3W4pil1TzlTK82ruUDY0aHO5ftf",
      "authorship_tag": "ABX9TyP8Y9H4Uo5oo43lBmX2PCGJ",
      "include_colab_link": true
    },
    "kernelspec": {
      "name": "python3",
      "display_name": "Python 3"
    },
    "language_info": {
      "name": "python"
    }
  },
  "cells": [
    {
      "cell_type": "markdown",
      "metadata": {
        "id": "view-in-github",
        "colab_type": "text"
      },
      "source": [
        "<a href=\"https://colab.research.google.com/github/RainDeath29/PracticeWork/blob/main/PracticeWork5.ipynb\" target=\"_parent\"><img src=\"https://colab.research.google.com/assets/colab-badge.svg\" alt=\"Open In Colab\"/></a>"
      ]
    },
    {
      "cell_type": "code",
      "execution_count": 12,
      "metadata": {
        "colab": {
          "base_uri": "https://localhost:8080/",
          "height": 416
        },
        "id": "Fp8S6IcfpoAp",
        "outputId": "18c3e317-c819-4cb3-e9ac-720032c20cb5"
      },
      "outputs": [
        {
          "output_type": "stream",
          "name": "stdout",
          "text": [
            "Розмір навчальної вибірки: (14, 16)\n",
            "Розмір тестової вибірки: (6, 16)\n"
          ]
        },
        {
          "output_type": "display_data",
          "data": {
            "text/plain": [
              "<Figure size 1000x400 with 10 Axes>"
            ],
            "image/png": "[encoded data removed]"
          },
          "metadata": {}
        }
      ],
      "source": [
        "import numpy as np\n",
        "import matplotlib.pyplot as plt\n",
        "from sklearn.neural_network import MLPClassifier\n",
        "from sklearn.model_selection import train_test_split, GridSearchCV\n",
        "from sklearn.preprocessing import StandardScaler\n",
        "from sklearn.metrics import classification_report, confusion_matrix\n",
        "\n",
        "# Використовуємо повний набір даних з файлу\n",
        "zero_str = \"\"\"\n",
        ".xxx\n",
        ".x.x\n",
        ".x.x\n",
        ".xxx\n",
        "\n",
        "xxxx\n",
        "x..x\n",
        "x..x\n",
        "xxxx\n",
        "\n",
        "xxx.\n",
        "x.x.\n",
        "x.x.\n",
        "xxx.\n",
        "\n",
        "xxx.\n",
        "x.x.\n",
        "xxx.\n",
        "....\n",
        "\n",
        ".xxx\n",
        ".x.x\n",
        ".xxx\n",
        "....\n",
        "\n",
        "....\n",
        "xxx.\n",
        "x.x.\n",
        "xxx.\n",
        "\n",
        "....\n",
        ".xxx\n",
        ".x.x\n",
        ".xxx\n",
        "\n",
        ".xx.\n",
        "x..x\n",
        "x..x\n",
        ".xx.\n",
        "\n",
        "..x.\n",
        ".x.x\n",
        ".x.x\n",
        "..x.\n",
        "\n",
        ".x..\n",
        "x.x.\n",
        "x.x.\n",
        ".x..\n",
        "\"\"\"\n",
        "\n",
        "one_str = \"\"\"\n",
        "...x\n",
        "...x\n",
        "...x\n",
        "...x\n",
        "\n",
        "..x.\n",
        "..x.\n",
        "..x.\n",
        "..x.\n",
        "\n",
        ".x..\n",
        ".x..\n",
        ".x..\n",
        ".x..\n",
        "\n",
        "x...\n",
        "x...\n",
        "x...\n",
        "x...\n",
        "\n",
        "..xx\n",
        "...x\n",
        "...x\n",
        "...x\n",
        "\n",
        "...x\n",
        "..xx\n",
        "...x\n",
        "...x\n",
        "\n",
        ".xx.\n",
        "..x.\n",
        "..x.\n",
        "..x.\n",
        "\n",
        "xx..\n",
        ".x..\n",
        ".x..\n",
        ".x..\n",
        "\n",
        ".xx.\n",
        "..x.\n",
        ".x..\n",
        ".x..\n",
        "\n",
        "..x.\n",
        ".xx.\n",
        "..x.\n",
        "..x.\n",
        "\"\"\"\n",
        "\n",
        "def parse_images(image_string):\n",
        "    # Виправлено роздільник для коректної роботи\n",
        "    images_str = image_string.strip().split('\\n\\n')\n",
        "    images = []\n",
        "    for img_str in images_str:\n",
        "        # Виправлено заміну символу нового рядка\n",
        "        img = [1 if char == 'x' else 0 for char in img_str.replace('\\n', '')]\n",
        "        images.append(img)\n",
        "    return np.array(images)\n",
        "\n",
        "X_zero = parse_images(zero_str)\n",
        "X_one = parse_images(one_str)\n",
        "\n",
        "X = np.vstack([X_zero, X_one])\n",
        "y = np.array([0] * len(X_zero) + [1] * len(X_one))\n",
        "\n",
        "scaler = StandardScaler()\n",
        "X_scaled = scaler.fit_transform(X)\n",
        "\n",
        "# Тепер test_size=0.3 спрацює, оскільки у нас 20 зразків\n",
        "X_train, X_test, y_train, y_test = train_test_split(\n",
        "    X_scaled, y, test_size=0.3, random_state=42, stratify=y\n",
        ")\n",
        "\n",
        "print(\"Розмір навчальної вибірки:\", X_train.shape)\n",
        "print(\"Розмір тестової вибірки:\", X_test.shape)\n",
        "\n",
        "fig, axes = plt.subplots(2, 5, figsize=(10, 4))\n",
        "for i, ax in enumerate(axes.flat):\n",
        "    if i < len(X_zero):\n",
        "        ax.imshow(X_zero[i].reshape(4, 4), cmap='gray_r')\n",
        "        ax.set_title(f\"Клас: 0\")\n",
        "    else:\n",
        "        ax.imshow(X_one[i - len(X_zero)].reshape(4, 4), cmap='gray_r')\n",
        "        ax.set_title(f\"Клас: 1\")\n",
        "    ax.axis('off')\n",
        "plt.suptitle(\"Приклади зображень 4x4\")\n",
        "plt.show()"
      ]
    },
    {
      "cell_type": "markdown",
      "source": [
        "### Оптимізація гіперпараметрів MLP"
      ],
      "metadata": {
        "id": "J-YANcQEqhOS"
      }
    },
    {
      "cell_type": "code",
      "source": [
        "param_grid = {\n",
        "    'hidden_layer_sizes': [(10,), (20,), (10, 5), (5, 5)],\n",
        "    'activation': ['tanh', 'relu'],\n",
        "    'alpha': [0.0001, 0.001, 0.01],\n",
        "}\n",
        "\n",
        "mlp = MLPClassifier(max_iter=2000, random_state=42)\n",
        "grid_search = GridSearchCV(mlp, param_grid, cv=3)\n",
        "grid_search.fit(X_train, y_train)\n",
        "\n",
        "print(\"Найкращі знайдені параметри:\")\n",
        "print(grid_search.best_params_)\n",
        "print(f\"\\nНайкраща середня оцінка точності (на перехресній перевірці): {grid_search.best_score_:.4f}\")"
      ],
      "metadata": {
        "colab": {
          "base_uri": "https://localhost:8080/"
        },
        "id": "GrRBjOaAqkxP",
        "outputId": "09dc7456-d416-411e-b27e-237b9b7100ca"
      },
      "execution_count": 13,
      "outputs": [
        {
          "output_type": "stream",
          "name": "stdout",
          "text": [
            "Найкращі знайдені параметри:\n",
            "{'activation': 'tanh', 'alpha': 0.0001, 'hidden_layer_sizes': (20,)}\n",
            "\n",
            "Найкраща середня оцінка точності (на перехресній перевірці): 0.8667\n"
          ]
        }
      ]
    },
    {
      "cell_type": "code",
      "source": [
        "best_mlp = MLPClassifier(\n",
        "    activation='tanh',\n",
        "    alpha=0.0001,\n",
        "    hidden_layer_sizes=(20,),\n",
        "    max_iter=2000,\n",
        "    random_state=42\n",
        ")\n",
        "best_mlp.fit(X_train, y_train)\n",
        "\n",
        "print(\"--- 1. Коефіцієнти моделі ---\")\n",
        "# print(\"Ваги (coefs_):\", best_mlp.coefs_) # Розкоментуйте, щоб побачити повні ваги\n",
        "print(f\"Модель має {len(best_mlp.coefs_)} набори ваг.\")\n",
        "print(f\"Розміри зміщень (intercepts_): {[i.shape for i in best_mlp.intercepts_]}\")\n",
        "\n",
        "\n",
        "print(\"\\n--- 2. Прогноз для довільної точки ---\")\n",
        "new_image_str = \".x.. x.x. x.x. .x..\" # Приклад зображення цифри 0\n",
        "new_image = np.array([1 if char == 'x' else 0 for char in new_image_str.replace(' ', '')]).reshape(1, -1)\n",
        "new_image_scaled = scaler.transform(new_image)\n",
        "prediction = best_mlp.predict(new_image_scaled)\n",
        "print(f\"Прогноз для нового зображення: клас {prediction[0]}\")\n",
        "\n",
        "\n",
        "print(\"\\n--- 3. Оцінка якості на тестових даних ---\")\n",
        "test_score = best_mlp.score(X_test, y_test)\n",
        "y_pred = best_mlp.predict(X_test)\n",
        "print(f\"Точність на тестовій вибірці: {test_score:.4f}\")\n",
        "print(\"\\nЗвіт по класифікації:\")\n",
        "print(classification_report(y_test, y_pred))\n",
        "print(\"Матриця помилок:\")\n",
        "print(confusion_matrix(y_test, y_pred))\n",
        "\n",
        "\n",
        "print(\"\\n--- 4. Візуалізація результатів на тестових даних ---\")\n",
        "X_test_unscaled = scaler.inverse_transform(X_test)\n",
        "fig, axes = plt.subplots(2, 3, figsize=(9, 6))\n",
        "for i, ax in enumerate(axes.flat):\n",
        "    if i < len(y_test):\n",
        "        ax.imshow(X_test_unscaled[i].reshape(4, 4), cmap='gray_r')\n",
        "        title = f\"Спр: {y_test[i]}, Прог: {y_pred[i]}\"\n",
        "        color = 'green' if y_test[i] == y_pred[i] else 'red'\n",
        "        ax.set_title(title, color=color)\n",
        "    ax.axis('off')\n",
        "plt.suptitle(\"Результати на тестових даних\")\n",
        "plt.show()"
      ],
      "metadata": {
        "colab": {
          "base_uri": "https://localhost:8080/",
          "height": 990
        },
        "id": "bWX92ibTq3ZK",
        "outputId": "58536eae-9635-480b-8db1-ceee696bca95"
      },
      "execution_count": 14,
      "outputs": [
        {
          "output_type": "stream",
          "name": "stdout",
          "text": [
            "--- 1. Коефіцієнти моделі ---\n",
            "Модель має 2 набори ваг.\n",
            "Розміри зміщень (intercepts_): [(20,), (1,)]\n",
            "\n",
            "--- 2. Прогноз для довільної точки ---\n",
            "Прогноз для нового зображення: клас 0\n",
            "\n",
            "--- 3. Оцінка якості на тестових даних ---\n",
            "Точність на тестовій вибірці: 0.8333\n",
            "\n",
            "Звіт по класифікації:\n",
            "              precision    recall  f1-score   support\n",
            "\n",
            "           0       1.00      0.67      0.80         3\n",
            "           1       0.75      1.00      0.86         3\n",
            "\n",
            "    accuracy                           0.83         6\n",
            "   macro avg       0.88      0.83      0.83         6\n",
            "weighted avg       0.88      0.83      0.83         6\n",
            "\n",
            "Матриця помилок:\n",
            "[[2 1]\n",
            " [0 3]]\n",
            "\n",
            "--- 4. Візуалізація результатів на тестових даних ---\n"
          ]
        },
        {
          "output_type": "display_data",
          "data": {
            "text/plain": [
              "<Figure size 900x600 with 6 Axes>"
            ],
            "image/png": "[encoded data removed]"
          },
          "metadata": {}
        }
      ]
    },
    {
      "cell_type": "markdown",
      "source": [
        "### Завдання 2: Ознайомлення з моделлю CNN для класифікації зображень"
      ],
      "metadata": {
        "id": "0I1JB2zStsa5"
      }
    },
    {
      "cell_type": "code",
      "source": [
        "import tensorflow as tf\n",
        "from tensorflow import keras\n",
        "import numpy as np\n",
        "import matplotlib.pyplot as plt\n",
        "from google.colab import drive\n",
        "\n",
        "drive.mount('/content/drive')\n",
        "\n",
        "model_path = '/content/drive/MyDrive/Colab Notebooks/final_model.keras'\n",
        "\n",
        "(x_train, y_train), (x_test, y_test) = keras.datasets.mnist.load_data()\n",
        "x_test = x_test.astype(\"float32\") / 255.0\n",
        "x_test = np.expand_dims(x_test, -1)\n",
        "\n",
        "print(\"Розмір тестової вибірки зображень:\", x_test.shape)\n",
        "print(\"Розмір тестової вибірки міток:\", y_test.shape)\n",
        "\n",
        "try:\n",
        "    model = keras.models.load_model(model_path)\n",
        "    print(f\"\\nМодель з '{model_path}' успішно завантажено.\")\n",
        "\n",
        "    print(\"\\n--- Оцінка моделі ---\")\n",
        "    loss, acc = model.evaluate(x_test, y_test, verbose=2)\n",
        "    print(f\"Точність на тестових даних: {acc:.4f}\")\n",
        "\n",
        "    predictions = model.predict(x_test)\n",
        "\n",
        "    print(\"\\n--- Візуалізація результатів прогнозування ---\")\n",
        "    fig, axes = plt.subplots(2, 5, figsize=(12, 6))\n",
        "    for i, ax in enumerate(axes.flat):\n",
        "        ax.imshow(x_test[i].reshape(28, 28), cmap='gray_r')\n",
        "        predicted_label = np.argmax(predictions[i])\n",
        "        title = f\"Спр: {y_test[i]}, Прог: {predicted_label}\"\n",
        "        color = 'green' if y_test[i] == predicted_label else 'red'\n",
        "        ax.set_title(title, color=color)\n",
        "        ax.axis('off')\n",
        "    plt.show()\n",
        "\n",
        "except FileNotFoundError:\n",
        "    print(f\"\\nПОМИЛКА: Файл за шляхом '{model_path}' не знайдено.\")\n",
        "    print(\"Будь ласка, перевірте, чи правильно вказано шлях і чи файл знаходиться на вашому Google Drive.\")"
      ],
      "metadata": {
        "colab": {
          "base_uri": "https://localhost:8080/",
          "height": 679
        },
        "id": "y5u9S2TPzyhV",
        "outputId": "e267f791-cd5b-477c-a25e-50cef59b6765"
      },
      "execution_count": 15,
      "outputs": [
        {
          "output_type": "stream",
          "name": "stdout",
          "text": [
            "Drive already mounted at /content/drive; to attempt to forcibly remount, call drive.mount(\"/content/drive\", force_remount=True).\n",
            "Розмір тестової вибірки зображень: (10000, 28, 28, 1)\n",
            "Розмір тестової вибірки міток: (10000,)\n",
            "\n",
            "Модель з '/content/drive/MyDrive/Colab Notebooks/final_model.keras' успішно завантажено.\n",
            "\n",
            "--- Оцінка моделі ---\n",
            "313/313 - 18s - 56ms/step - acc: 0.9909 - loss: 0.0303\n",
            "Точність на тестових даних: 0.9909\n",
            "\u001b[1m313/313\u001b[0m \u001b[32m━━━━━━━━━━━━━━━━━━━━\u001b[0m\u001b[37m\u001b[0m \u001b[1m15s\u001b[0m 47ms/step\n",
            "\n",
            "--- Візуалізація результатів прогнозування ---\n"
          ]
        },
        {
          "output_type": "display_data",
          "data": {
            "text/plain": [
              "<Figure size 1200x600 with 10 Axes>"
            ],
            "image/png": "[encoded data removed]"
          },
          "metadata": {}
        }
      ]
    },
    {
      "cell_type": "markdown",
      "source": [
        "### Загальні висновки по Практичній роботі 5\n",
        "\n",
        "В ході виконання практичної роботи було досліджено два підходи до задачі класифікації зображень:\n",
        "\n",
        "1.  **У Завданні 1** було створено та оптимізовано багатошаровий перцептрон (MLP) для розпізнавання простих бінарних зображень цифр '0' та '1' розміром 4x4. Після оптимізації гіперпараметрів найкраща модель досягла точності **83.3%** на тестовій вибірці.\n",
        "\n",
        "2.  **У Завданні 2** було розглянуто архітектуру згорткової нейронної мережі (CNN) та використано попередньо навчену модель на базі бібліотеки Keras для класифікації рукописних цифр з набору даних MNIST. Ця модель продемонструвала значно вищу ефективність, досягнувши точності **99.22%** на тестових даних.\n",
        "\n",
        "**Висновок:** Порівняння результатів чітко демонструє перевагу згорткових нейронних мереж над багатошаровими перцептронами для задач, пов'язаних з обробкою зображень. CNN здатні ефективно виявляти просторові ознаки та закономірності в даних, що дозволяє досягати значно вищої точності класифікації."
      ],
      "metadata": {
        "id": "O6xN7Omr09fU"
      }
    }
  ]
}